{
  "nbformat": 4,
  "nbformat_minor": 0,
  "metadata": {
    "colab": {
      "name": "LivepriceNSE.ipynb",
      "provenance": [],
      "authorship_tag": "ABX9TyOgrlaeFIORv2yXmGpY2i9M",
      "include_colab_link": true
    },
    "kernelspec": {
      "name": "python3",
      "display_name": "Python 3"
    },
    "language_info": {
      "name": "python"
    }
  },
  "cells": [
    {
      "cell_type": "markdown",
      "metadata": {
        "id": "view-in-github",
        "colab_type": "text"
      },
      "source": [
        "<a href=\"https://colab.research.google.com/github/rajatjpatel/Bazaar/blob/main/LivepriceNSE.ipynb\" target=\"_parent\"><img src=\"https://colab.research.google.com/assets/colab-badge.svg\" alt=\"Open In Colab\"/></a>"
      ]
    },
    {
      "cell_type": "code",
      "metadata": {
        "colab": {
          "base_uri": "https://localhost:8080/"
        },
        "id": "6HevbEy8TmEU",
        "outputId": "0a88f540-65bf-4bba-93ee-0be1b0543f83"
      },
      "source": [
        "pip install schedule"
      ],
      "execution_count": 8,
      "outputs": [
        {
          "output_type": "stream",
          "text": [
            "Collecting schedule\n",
            "  Downloading https://files.pythonhosted.org/packages/eb/3b/040bd180eaef427dd160562ee66adc9f4f67088185c272edcdb899c609c7/schedule-1.1.0-py2.py3-none-any.whl\n",
            "Installing collected packages: schedule\n",
            "Successfully installed schedule-1.1.0\n"
          ],
          "name": "stdout"
        }
      ]
    },
    {
      "cell_type": "code",
      "metadata": {
        "colab": {
          "base_uri": "https://localhost:8080/"
        },
        "id": "9iZgMLHVTYDQ",
        "outputId": "17f6486b-8236-4351-db9b-28193a0929a9"
      },
      "source": [
        "pip install nsetools"
      ],
      "execution_count": 6,
      "outputs": [
        {
          "output_type": "stream",
          "text": [
            "Collecting nsetools\n",
            "  Downloading https://files.pythonhosted.org/packages/f5/b3/6aac4226a927d5f23f154c06de7c100361e9fa07e932cd76aaa8c45a2af4/nsetools-1.0.11-py3-none-any.whl\n",
            "Requirement already satisfied: six in /usr/local/lib/python3.7/dist-packages (from nsetools) (1.15.0)\n",
            "Collecting dateutils\n",
            "  Downloading https://files.pythonhosted.org/packages/1e/23/cbac954194e5132448cfec0148be1318baac99e68ed597b3d7ff4ae5c182/dateutils-0.6.12-py2.py3-none-any.whl\n",
            "Requirement already satisfied: python-dateutil in /usr/local/lib/python3.7/dist-packages (from dateutils->nsetools) (2.8.1)\n",
            "Requirement already satisfied: pytz in /usr/local/lib/python3.7/dist-packages (from dateutils->nsetools) (2018.9)\n",
            "Installing collected packages: dateutils, nsetools\n",
            "Successfully installed dateutils-0.6.12 nsetools-1.0.11\n"
          ],
          "name": "stdout"
        }
      ]
    },
    {
      "cell_type": "code",
      "metadata": {
        "colab": {
          "base_uri": "https://localhost:8080/"
        },
        "id": "0VKsEGryTjGP",
        "outputId": "bf162642-c246-4478-b8c5-dec615153425"
      },
      "source": [
        "import schedule, time\n",
        "\n",
        "from nsetools import Nse\n",
        "\n",
        "stock_input =input(\"Enter Stock Code: \")\n",
        "\n",
        "def sch():\n",
        "\n",
        "        nse =Nse()\n",
        "\n",
        " \n",
        "\n",
        "        stock =nse.get_quote(stock_input)\n",
        "\n",
        " \n",
        "\n",
        "        print(\"Current Value:\", stock.get(\"lastPrice\"), \"Market Open Price:\", stock.get(\"open\"),\\\n",
        "\n",
        "              \"Day High:\", stock.get(\"dayHigh\"), \"Day Low:\", stock.get(\"dayLow\"))\n",
        "\n",
        " \n",
        "\n",
        "        if stock.get(\"lastPrice\") <2095:\n",
        "\n",
        "            Print(\"Alert\")\n",
        "\n",
        " \n",
        "\n",
        "        else:\n",
        "\n",
        "             pass\n",
        "\n",
        " \n",
        "\n",
        "        schedule.every(1).second.do(sch)\n",
        "\n",
        " \n",
        "\n",
        "while True:\n",
        "\n",
        "      schedule.run_pending()\n",
        "\n",
        "      time.sleep(1)"
      ],
      "execution_count": null,
      "outputs": [
        {
          "output_type": "stream",
          "text": [
            "Enter Stock Code: SBI\n"
          ],
          "name": "stdout"
        }
      ]
    }
  ]
}