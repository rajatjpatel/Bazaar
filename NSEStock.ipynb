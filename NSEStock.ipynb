{
  "nbformat": 4,
  "nbformat_minor": 0,
  "metadata": {
    "colab": {
      "name": "NSEStock.ipynb",
      "provenance": [],
      "authorship_tag": "ABX9TyNGpq8wsDdFkqoj4L3KTcv+",
      "include_colab_link": true
    },
    "kernelspec": {
      "name": "python3",
      "display_name": "Python 3"
    },
    "language_info": {
      "name": "python"
    }
  },
  "cells": [
    {
      "cell_type": "markdown",
      "metadata": {
        "id": "view-in-github",
        "colab_type": "text"
      },
      "source": [
        "<a href=\"https://colab.research.google.com/github/rajatjpatel/Bazaar/blob/main/NSEStock.ipynb\" target=\"_parent\"><img src=\"https://colab.research.google.com/assets/colab-badge.svg\" alt=\"Open In Colab\"/></a>"
      ]
    },
    {
      "cell_type": "code",
      "metadata": {
        "colab": {
          "base_uri": "https://localhost:8080/"
        },
        "id": "4R4WgceyMdU-",
        "outputId": "dfeefd2d-b0ce-4c8d-92cf-aa1fce8d1f01"
      },
      "source": [
        "import pandas as pd\n",
        "df=pd.read_csv(\"/content/sec_bhavdata_full_03052021.csv\",skipinitialspace=True)\n",
        "df.replace(\"-\",\"\",inplace=True)\n",
        "df[\"CHANGE\"]=df[\"CLOSE_PRICE\"]-df[\"PREV_CLOSE\"]\n",
        "df[\"DELIV_PER\"]=pd.to_numeric(df['DELIV_PER'])\n",
        "data=df[\"SYMBOL\"][(df.SERIES==\"EQ\") & (df.DELIV_PER>=90) & (df[\"CHANGE\"]>0)]\n",
        "ndf=pd.DataFrame(data)\n",
        "ndf.to_csv(\"ALL.csv\")\n",
        "print(data)"
      ],
      "execution_count": 1,
      "outputs": [
        {
          "output_type": "stream",
          "text": [
            "30       ABMINTLTD\n",
            "48      ADROITINFO\n",
            "69             AKG\n",
            "87       ALPSINDUS\n",
            "91      AMBICAAGAR\n",
            "160        ATLANTA\n",
            "182      AYMSYNTEX\n",
            "184       BAGFILMS\n",
            "257     BLBLIMITED\n",
            "287        BURNPUR\n",
            "353     CONSOFINVT\n",
            "388       DBREALTY\n",
            "393     DCMFINSERV\n",
            "435       DNAMEDIA\n",
            "457     EBBETF0425\n",
            "458     EBBETF0430\n",
            "459     EBBETF0431\n",
            "516          EXCEL\n",
            "535      FLEXITUFF\n",
            "582     GILLANDERS\n",
            "820     INDTERRAIN\n",
            "874     IVZINNIFTY\n",
            "924        JSWISPL\n",
            "1054          LSIL\n",
            "1105    MANGTIMBER\n",
            "1109       MANXT50\n",
            "1147           MIC\n",
            "1159           MMP\n",
            "1163      MOHITIND\n",
            "1233          NETF\n",
            "1236    NETFGILT5Y\n",
            "1242     NETFSDL26\n",
            "1305    ONELIFECAP\n",
            "1403    PRAKASHSTL\n",
            "1453         RAMKY\n",
            "1497    ROHITFERRO\n",
            "1513      RTNINDIA\n",
            "1529     SAGARDEEP\n",
            "1537        SALONA\n",
            "1581    SETF10GILT\n",
            "1640    SHARIABEES\n",
            "1650       SHRADHA\n",
            "1674      SIMBHALS\n",
            "1687     SMARTLINK\n",
            "1797    SURYALAXMI\n",
            "1841     TATASTLLP\n",
            "1857        TECHIN\n",
            "1883       TIJARIA\n",
            "1982       VIJIFIN\n",
            "2048     ZENITHSTL\n",
            "Name: SYMBOL, dtype: object\n"
          ],
          "name": "stdout"
        }
      ]
    }
  ]
}