{
  "nbformat": 4,
  "nbformat_minor": 0,
  "metadata": {
    "colab": {
      "name": "RSI.ipynb",
      "provenance": [],
      "authorship_tag": "ABX9TyMrgv49Md+koK4j3/AsU5+N",
      "include_colab_link": true
    },
    "kernelspec": {
      "name": "python3",
      "display_name": "Python 3"
    },
    "language_info": {
      "name": "python"
    }
  },
  "cells": [
    {
      "cell_type": "markdown",
      "metadata": {
        "id": "view-in-github",
        "colab_type": "text"
      },
      "source": [
        "<a href=\"https://colab.research.google.com/github/rajatjpatel/Bazaar/blob/main/RSI.ipynb\" target=\"_parent\"><img src=\"https://colab.research.google.com/assets/colab-badge.svg\" alt=\"Open In Colab\"/></a>"
      ]
    },
    {
      "cell_type": "code",
      "metadata": {
        "id": "FTQ9eVCa38wD"
      },
      "source": [
        "pip install ccxt pandas_ta yfinance pandas streamlit plotly requests"
      ],
      "execution_count": null,
      "outputs": []
    },
    {
      "cell_type": "code",
      "metadata": {
        "id": "VOhz_wIr2_m3"
      },
      "source": [
        "import pandas_ta as ta\n",
        "import pandas as pd\n",
        "import ccxt, yfinance\n",
        "\n",
        "exchange = ccxt.binance()\n",
        "\n",
        "bars = exchange.fetch_ohlcv('BTC/USDT', timeframe='5m', limit=500)\n",
        "\n",
        "#print(bars)\n",
        "\n",
        "df = pd.DataFrame(bars, columns=['time', 'open', 'high', 'low', 'close', 'volume'])\n",
        "\n",
        "print(df)\n",
        "\n",
        "#adx = ta.adx(df['high'], df['low'], df['close'])\n",
        "#sma = df.ta.sma()\n",
        "rsi = df.ta.rsi()\n",
        "\n",
        "print(rsi)\n",
        "\n",
        "df = pd.concat([df, rsi], axis=1)\n",
        "print(df)\n",
        "\n",
        "df = df[df['RSI_14'] < 30]\n",
        "df = df[df['RSI_14'] > 70]\n",
        "\n",
        "print(df)\n",
        "\n",
        "\n",
        "#ticker = yfinance.Ticker(\"TSLA\")\n",
        "#df = ticker.history(period=\"1y\")\n",
        "#print(df)\n",
        "\n"
      ],
      "execution_count": null,
      "outputs": []
    }
  ]
}