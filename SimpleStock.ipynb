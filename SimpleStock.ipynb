{
  "nbformat": 4,
  "nbformat_minor": 0,
  "metadata": {
    "colab": {
      "name": "SimpleStock.ipynb",
      "provenance": [],
      "authorship_tag": "ABX9TyP9BwO70PiLFsCL/WtUn8xC",
      "include_colab_link": true
    },
    "kernelspec": {
      "name": "python3",
      "display_name": "Python 3"
    },
    "language_info": {
      "name": "python"
    }
  },
  "cells": [
    {
      "cell_type": "markdown",
      "metadata": {
        "id": "view-in-github",
        "colab_type": "text"
      },
      "source": [
        "<a href=\"https://colab.research.google.com/github/rajatjpatel/Bazaar/blob/main/SimpleStock.ipynb\" target=\"_parent\"><img src=\"https://colab.research.google.com/assets/colab-badge.svg\" alt=\"Open In Colab\"/></a>"
      ]
    },
    {
      "cell_type": "code",
      "metadata": {
        "id": "xOiJXDELwGXg"
      },
      "source": [
        "import pandas as pd\n",
        "import glob\n",
        "import requests, zipfile, io\n",
        "\n",
        "#def downloaddata(month,dateInString):\n",
        "   \n",
        "#months = [\"JAN\" , \"FEB\" , \"MAR\" , \"APR\" , \"JUN\" , \"JUL\" , \"AUG\" , \"SEP\" , \"OCT\" , \"NOV\" , \"DEC\"]\n",
        "months = [\"JAN\"]\n",
        "dates = range(1,31)\n",
        "    \n",
        "for month in months:\n",
        "    for date in dates:\n",
        "        if date < 10:\n",
        "             dateInString = str(0)+str(date)\n",
        "        else:\n",
        "            dateInString = str(date) \n",
        "        url = \"https://www1.nseindia.com/content/historical/EQUITIES/2020/\"+month+\"/cm\"+dateInString+month+\"2020bhav.csv.zip\"\n",
        "        r = requests.get(url)\n",
        "        temp=r.status_code\n",
        "        if(temp!=404):\n",
        "                z = zipfile.ZipFile(io.BytesIO(r.content))        \n",
        "                z.extractall(\"/content/Equities\")\n",
        "        else:\n",
        "                pass\n",
        "\n",
        "path =r'/content/Equities' \n",
        "#allExtractedFiles = glob.glob(path + \"\\*.csv\")\n",
        "allExtractedFiles = glob.glob(path + \"/content/Equities/*.csv\")\n",
        "#print(allExtractedFiles)\n",
        "list = []\n",
        "for file in allExtractedFiles:\n",
        "    df = pd.read_csv(file,index_col=None, header=0 , engine = 'python')\n",
        "    list.append(df)\n",
        "    frame = pd.concat(list, axis = 0, ignore_index = True)\n",
        "    frame.to_csv('MasterFileEquity1.csv', index= False)\n",
        "    symbol_company_data = pd.read_csv(\"NewScripts.csv\")\n",
        "    stock_data = pd.read_csv('MasterFileEquity1.csv')\n",
        "    stock_data['STOCKNAME']= stock_data['SYMBOL'].map(symbol_company_data.drop_duplicates('NSE SYMBOL').set_index('NSE SYMBOL')['COMPANY NAME']).fillna(\"Not available\")\n",
        "\n",
        "    file_name = 'MasterFileEquity_Jan_2020.csv'\n",
        "    stock_data.to_csv(file_name, encoding='utf-8')"
      ],
      "execution_count": 32,
      "outputs": []
    },
    {
      "cell_type": "code",
      "metadata": {
        "id": "iQkYRifr3WMP"
      },
      "source": [
        "import pandas as pd\n",
        "#stock_data = pd.read_csv(\"/content/Equities/cm30JAN2020bhav.csv\")\n",
        "stock_data = pd.read_csv(\"MasterFileEquity_2020.csv\")\n",
        "columns = stock_data.columns\n",
        "equity_stock_data = stock_data[stock_data['SERIES'] == 'EQ']\n",
        "equity_stock_data ['DATE'] = pd.to_datetime(equity_stock_data.TIMESTAMP, dayfirst=True)\n",
        "\n",
        "filtered_equity_stock_data = equity_stock_data[equity_stock_data['CLOSE'] < 50]\n",
        "filtered_equity_stock_data = filtered_equity_stock_data[filtered_equity_stock_data['DATE'] <  '2020-05-01']\n",
        "\n",
        "difference = []\n",
        "for data, df_symbols in filtered_equity_stock_data.groupby('SYMBOL'):   \n",
        "    df_symbols.sort_values(by=\"DATE\" , inplace=True)\n",
        "    start=  df_symbols['CLOSE'].iloc[0] # first element \n",
        "    end =  df_symbols['CLOSE'].iloc[-1]      \n",
        "    difference =  start-end\n",
        "    percentage_difference = (difference / start )* 100\n",
        "    if percentage_difference > 60:\n",
        "        print(df_symbols['SYMBOL'].iloc[0])\n",
        "    \n",
        "    \n",
        "#pd.concat(df_symbols['SYMBOL'] , difference)\n"
      ],
      "execution_count": null,
      "outputs": []
    }
  ]
}